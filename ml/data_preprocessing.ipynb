{
 "cells": [
  {
   "cell_type": "code",
   "execution_count": 3,
   "metadata": {},
   "outputs": [],
   "source": [
    "import pandas as pd\n",
    "from tqdm.notebook import tqdm\n",
    "import os\n",
    "from shutil import copyfile, move\n",
    "import sys\n",
    "import json\n",
    "from ipywidgets import FloatProgress\n",
    "\n",
    "from JSON2YOLO.general_json2yolo import convert_coco_json"
   ]
  },
  {
   "cell_type": "code",
   "execution_count": 4,
   "metadata": {},
   "outputs": [],
   "source": [
    "abs_path = r'D:\\Mine\\Basics\\Coding\\Python_projects\\SimpleAutoML\\ml'\n",
    "test_path = os.path.join(abs_path, 'test_annotation')\n",
    "train_path = os.path.join(abs_path, 'train_annotation')\n",
    "valid_path = os.path.join(abs_path, 'valid_annotation')\n",
    "\n",
    "os.makedirs(train_path, exist_ok=True)\n",
    "os.makedirs(test_path, exist_ok=True)\n",
    "os.makedirs(valid_path, exist_ok=True)"
   ]
  },
  {
   "cell_type": "code",
   "execution_count": null,
   "metadata": {},
   "outputs": [],
   "source": [
    "move('archive/test/_annotations.coco.json', os.path.join(test_path, 'test_anno.json'))\n",
    "move('archive/train/_annotations.coco.json', os.path.join(train_path, 'train_anno.json'))\n",
    "move('archive/valid/_annotations.coco.json', os.path.join(valid_path, 'valid_anno.json'))"
   ]
  },
  {
   "cell_type": "code",
   "execution_count": null,
   "metadata": {},
   "outputs": [],
   "source": [
    "for folder in ['labels', 'images']:\n",
    "    for path in [test_path, train_path, valid_path]:\n",
    "        os.makedirs(os.path.join(path, folder), exist_ok=True)"
   ]
  },
  {
   "cell_type": "code",
   "execution_count": null,
   "metadata": {},
   "outputs": [],
   "source": [
    "convert_coco_json(test_path)\n",
    "for file in tqdm(os.listdir(os.path.join('new_dir/labels/test_anno'))):\n",
    "    move(os.path.join('new_dir/labels/test_anno', file), os.path.join(test_path, 'labels', file))\n",
    "\n",
    "convert_coco_json(train_path)\n",
    "for file in tqdm(os.listdir(os.path.join('new_dir/labels/train_anno'))):\n",
    "    move(os.path.join('new_dir/labels/train_anno', file), os.path.join(train_path, 'labels', file))\n",
    "\n",
    "convert_coco_json(valid_path)\n",
    "for file in tqdm(os.listdir(os.path.join('new_dir/labels/valid_anno'))):\n",
    "    move(os.path.join('new_dir/labels/valid_anno', file), os.path.join(valid_path, 'labels', file))"
   ]
  },
  {
   "cell_type": "code",
   "execution_count": null,
   "metadata": {},
   "outputs": [],
   "source": [
    "images = os.path.join(abs_path, r'archive\\test')\n",
    "for file in os.listdir(images):\n",
    "    name = file.split('.')[0]\n",
    "    move(os.path.join(images, file), os.path.join(test_path,'images', file))\n",
    "\n",
    "images = os.path.join(abs_path, r'archive\\train')\n",
    "for file in os.listdir(images):\n",
    "    name = file.split('.')[0]\n",
    "    move(os.path.join(images, file), os.path.join(train_path,'images', file))\n",
    "\n",
    "images = os.path.join(abs_path, r'archive\\valid')\n",
    "for file in os.listdir(images):\n",
    "    name = file.split('.')[0]\n",
    "    move(os.path.join(images, file), os.path.join(valid_path,'images', file))"
   ]
  },
  {
   "cell_type": "code",
   "execution_count": 5,
   "metadata": {},
   "outputs": [],
   "source": [
    "import yaml\n",
    "data = [{\n",
    "    'train': os.path.join(abs_path, r'test_annotation\\images'),\n",
    "    'val': os.path.join(abs_path, r'valid_annotation\\images'),\n",
    "    'nc': 2,\n",
    "    'names': ['non-tumor', 'tumor']\n",
    "}]"
   ]
  },
  {
   "cell_type": "code",
   "execution_count": 6,
   "metadata": {},
   "outputs": [],
   "source": [
    "def write_yaml_to_file(py_obj, filename) :\n",
    "    with open(f'{filename}-seg.yaml', 'w+',) as f:\n",
    "        yaml.dump_all(py_obj, f, sort_keys=False)"
   ]
  },
  {
   "cell_type": "code",
   "execution_count": 7,
   "metadata": {},
   "outputs": [],
   "source": [
    "write_yaml_to_file(data, os.path.join(abs_path, 'tumor'))"
   ]
  },
  {
   "cell_type": "code",
   "execution_count": null,
   "metadata": {},
   "outputs": [],
   "source": []
  }
 ],
 "metadata": {
  "kernelspec": {
   "display_name": "Python 3",
   "language": "python",
   "name": "python3"
  },
  "language_info": {
   "codemirror_mode": {
    "name": "ipython",
    "version": 3
   },
   "file_extension": ".py",
   "mimetype": "text/x-python",
   "name": "python",
   "nbconvert_exporter": "python",
   "pygments_lexer": "ipython3",
   "version": "3.12.4"
  }
 },
 "nbformat": 4,
 "nbformat_minor": 2
}
