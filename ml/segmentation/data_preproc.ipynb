{
 "cells": [
  {
   "cell_type": "code",
   "execution_count": 1,
   "metadata": {},
   "outputs": [],
   "source": [
    "import kagglehub\n",
    "import os\n",
    "import shutil\n",
    "from sklearn.model_selection import train_test_split\n",
    "\n",
    "path_root = r'D:\\Mine\\Basics\\Coding\\Python_projects\\SimpleAutoML\\ml\\datasets'\n",
    "os.makedirs(path_root, exist_ok=True)"
   ]
  },
  {
   "cell_type": "code",
   "execution_count": 2,
   "metadata": {},
   "outputs": [
    {
     "name": "stdout",
     "output_type": "stream",
     "text": [
      "Warning: Looks like you're using an outdated `kagglehub` version, please consider updating (latest version: 0.3.4)\n",
      "Path to dataset files: C:\\Users\\horo\\.cache\\kagglehub\\datasets\\deepakat002\\yolov8-segmentation-data-butterfly\\versions\\3\n"
     ]
    }
   ],
   "source": [
    "# Download latest butterflies\n",
    "path = kagglehub.dataset_download(\"deepakat002/yolov8-segmentation-data-butterfly\")\n",
    "print(\"Path to dataset files:\", path)\n",
    "\n",
    "path_root_butterfly = os.path.join(path_root, 'Butterfly')\n",
    "data_root_butterfly = os.path.join(path_root_butterfly, os.listdir(path)[0])\n",
    "\n",
    "if 'Butterfly' in os.listdir(path_root):\n",
    "    shutil.rmtree(path_root_butterfly)\n",
    "else:\n",
    "    os.makedirs(path_root_butterfly, exist_ok=True)\n",
    "\n",
    "shutil.copytree(path, path_root_butterfly, dirs_exist_ok=True)\n",
    "\n",
    "for purp in ['train', 'val']:\n",
    "    os.makedirs(os.path.join(path_root_butterfly, purp), exist_ok=True)\n",
    "    for dir in ['images', 'labels']:\n",
    "        os.makedirs(os.path.join(path_root_butterfly, purp, dir), exist_ok=True)\n",
    "\n",
    "X_data = []\n",
    "y_data = []\n",
    "for obj in os.listdir(data_root_butterfly):\n",
    "    image_extentions = ['png', 'jpeg', 'jpg']\n",
    "    if obj.partition('.')[2] in image_extentions:\n",
    "        X_data.append(obj)\n",
    "    elif obj.endswith(\".txt\"):\n",
    "        y_data.append(obj)\n",
    "        obj = os.path.join(data_root_butterfly, obj)\n",
    "        content = []\n",
    "        with open(obj, \"rt\", encoding=\"utf-8\") as read:\n",
    "            for line in read.readlines():\n",
    "                new_line = line.split(\" \")\n",
    "                new_line[0] = str(0)\n",
    "                content.append(\" \".join(new_line))\n",
    "        with open(obj, \"wt\", encoding=\"utf-8\") as write:\n",
    "            write.writelines(content)\n",
    "\n",
    "X_train, X_val, y_train, y_val = train_test_split(X_data, y_data, train_size=0.7, shuffle=True, random_state=42)\n",
    "\n",
    "for X, y, purp in ((X_train, y_train, 'train'), (X_val, y_val, 'val')):\n",
    "    for file, label in zip(X, y):\n",
    "        shutil.move(os.path.join(data_root_butterfly, file), os.path.join(path_root_butterfly, purp, 'images', file))\n",
    "        shutil.move(os.path.join(data_root_butterfly, label), os.path.join(path_root_butterfly, purp, 'labels', label))\n",
    "\n",
    "shutil.rmtree(data_root_butterfly)\n",
    "\n",
    "with open(os.path.join(path_root_butterfly, 'data.yaml'), 'wt', encoding=\"utf-8\") as conf:\n",
    "    conf.write(f\"train: ../train/images\\n\")\n",
    "    conf.write(f\"val: ../val/images\\n\")\n",
    "    conf.write(f\"\\n\")\n",
    "    conf.write(f\"nc: 1\\n\")\n",
    "    conf.write(f\"names: ['Butterfly']\\n\")"
   ]
  },
  {
   "cell_type": "code",
   "execution_count": 4,
   "metadata": {},
   "outputs": [
    {
     "name": "stdout",
     "output_type": "stream",
     "text": [
      "Path to dataset files: C:\\Users\\horo\\.cache\\kagglehub\\datasets\\nicolaasregnier\\grape-grapes\\versions\\27\n"
     ]
    }
   ],
   "source": [
    "# Download the grapes\n",
    "path = kagglehub.dataset_download(\"nicolaasregnier/grape-grapes\")\n",
    "print(\"Path to dataset files:\", path)\n",
    "\n",
    "path_root_grape = os.path.join(path_root, 'Grape')\n",
    "data_root_grape = os.path.join(path_root_grape, os.listdir(path)[os.listdir(path).index(\"SAMPreds\")])\n",
    "\n",
    "if 'Grape' in os.listdir(path_root):\n",
    "    shutil.rmtree(path_root_grape)\n",
    "else:\n",
    "    os.makedirs(path_root_grape, exist_ok=True)\n",
    "\n",
    "shutil.copytree(path, path_root_grape, dirs_exist_ok=True)\n",
    "os.remove(os.path.join(path_root_grape, \"data.yaml\"))\n",
    "for dir in os.listdir(path_root_grape):\n",
    "    if dir != 'SAMPreds':\n",
    "        shutil.rmtree(os.path.join(path_root_grape, dir))\n",
    "\n",
    "for purp in ['train', 'val']:\n",
    "    os.makedirs(os.path.join(path_root_grape, purp), exist_ok=True)\n",
    "    for dir in ['images', 'labels']:\n",
    "        os.makedirs(os.path.join(path_root_grape, purp, dir), exist_ok=True)\n",
    "\n",
    "X_data = os.listdir(os.path.join(data_root_grape, 'images'))\n",
    "y_data = os.listdir(os.path.join(data_root_grape, 'labels'))\n",
    "\n",
    "X_train, X_val, y_train, y_val = train_test_split(X_data, y_data, train_size=0.7, shuffle=True, random_state=42)\n",
    "\n",
    "for X, y, purp in ((X_train, y_train, 'train'), (X_val, y_val, 'val')):\n",
    "    for file, label in zip(X, y):\n",
    "        shutil.move(os.path.join(data_root_grape, 'images', file), os.path.join(path_root_grape, purp, 'images', file))\n",
    "        shutil.move(os.path.join(data_root_grape, 'labels', label), os.path.join(path_root_grape, purp, 'labels', label))\n",
    "\n",
    "shutil.rmtree(data_root_grape)\n",
    "\n",
    "with open(os.path.join(path_root_grape, 'data.yaml'), 'wt', encoding=\"utf-8\") as conf:\n",
    "    conf.write(f\"train: ../train/images\\n\")\n",
    "    conf.write(f\"val: ../val/images\\n\")\n",
    "    conf.write(f\"\\n\")\n",
    "    conf.write(f\"nc: 4\\n\")\n",
    "    conf.write(f\"names: ['Chardonnay', 'PinotNoir', 'PinotGris', 'SauvignonBlanc']\\n\")"
   ]
  },
  {
   "cell_type": "code",
   "execution_count": 3,
   "metadata": {},
   "outputs": [
    {
     "name": "stdout",
     "output_type": "stream",
     "text": [
      "Warning: Looks like you're using an outdated `kagglehub` version, please consider updating (latest version: 0.3.4)\n",
      "Path to dataset files: C:\\Users\\horo\\.cache\\kagglehub\\datasets\\farzadnekouei\\pothole-image-segmentation-dataset\\versions\\2\n"
     ]
    }
   ],
   "source": [
    "# Download the potholes\n",
    "path = kagglehub.dataset_download(\"farzadnekouei/pothole-image-segmentation-dataset\")\n",
    "print(\"Path to dataset files:\", path)\n",
    "\n",
    "path_root_pothole = os.path.join(path_root, 'Pothole')\n",
    "data_root_pothole = os.path.join(path_root_pothole, os.listdir(path)[0])\n",
    "\n",
    "if 'Pothole' in os.listdir(path_root):\n",
    "    shutil.rmtree(path_root_pothole)\n",
    "else:\n",
    "    os.makedirs(path_root_pothole, exist_ok=True)\n",
    "\n",
    "shutil.copytree(path, path_root_pothole, dirs_exist_ok=True)\n",
    "\n",
    "for dir in ('images', 'labels'):\n",
    "    os.makedirs(os.path.join(path_root_pothole, dir), exist_ok=True)\n",
    "\n",
    "for purp in ['train', 'val']:\n",
    "    os.makedirs(os.path.join(path_root_pothole, purp), exist_ok=True)\n",
    "    for dir in ['images', 'labels']:\n",
    "        os.makedirs(os.path.join(path_root_pothole, purp, dir), exist_ok=True)\n",
    "\n",
    "for purp in ('train', 'valid'):\n",
    "    for src in ('images', 'labels'):\n",
    "        for file in os.listdir(os.path.join(data_root_pothole, purp, src)):\n",
    "            shutil.move(os.path.join(data_root_pothole, purp, src, file), os.path.join(path_root_pothole, src))\n",
    "\n",
    "shutil.rmtree(data_root_pothole)\n",
    "\n",
    "X_data = os.listdir(os.path.join(path_root_pothole, 'images'))\n",
    "y_data = os.listdir(os.path.join(path_root_pothole, 'labels'))\n",
    "\n",
    "X_train, X_val, y_train, y_val = train_test_split(X_data, y_data, train_size=0.7, shuffle=True, random_state=42)\n",
    "\n",
    "for X, y, purp in ((X_train, y_train, 'train'), (X_val, y_val, 'val')):\n",
    "    for file, label in zip(X, y):\n",
    "        shutil.move(os.path.join(path_root_pothole, 'images', file), os.path.join(path_root_pothole, purp, 'images', file))\n",
    "        shutil.move(os.path.join(path_root_pothole, 'labels', label), os.path.join(path_root_pothole, purp, 'labels', label))\n",
    "\n",
    "for dir in ('images', 'labels'):\n",
    "    shutil.rmtree(os.path.join(path_root_pothole, dir))\n",
    "\n",
    "with open(os.path.join(path_root_pothole, 'data.yaml'), 'wt', encoding=\"utf-8\") as conf:\n",
    "    conf.write(f\"train: ../train/images\\n\")\n",
    "    conf.write(f\"val: ../val/images\\n\")\n",
    "    conf.write(f\"\\n\")\n",
    "    conf.write(f\"nc: 1\\n\")\n",
    "    conf.write(f\"names: ['Pothole']\\n\")"
   ]
  },
  {
   "cell_type": "code",
   "execution_count": null,
   "metadata": {},
   "outputs": [],
   "source": []
  }
 ],
 "metadata": {
  "kernelspec": {
   "display_name": "Python 3",
   "language": "python",
   "name": "python3"
  },
  "language_info": {
   "codemirror_mode": {
    "name": "ipython",
    "version": 3
   },
   "file_extension": ".py",
   "mimetype": "text/x-python",
   "name": "python",
   "nbconvert_exporter": "python",
   "pygments_lexer": "ipython3",
   "version": "3.12.4"
  }
 },
 "nbformat": 4,
 "nbformat_minor": 2
}
