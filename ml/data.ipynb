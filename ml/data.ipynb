{
 "cells": [
  {
   "cell_type": "code",
   "execution_count": 2,
   "metadata": {},
   "outputs": [
    {
     "name": "stdout",
     "output_type": "stream",
     "text": [
      "Downloading from https://www.kaggle.com/api/v1/datasets/download/mykeysid10/skin-lesions-dataset?dataset_version_number=2...\n"
     ]
    },
    {
     "name": "stderr",
     "output_type": "stream",
     "text": [
      "100%|██████████| 813M/813M [01:16<00:00, 11.1MB/s] "
     ]
    },
    {
     "name": "stdout",
     "output_type": "stream",
     "text": [
      "Extracting files...\n"
     ]
    },
    {
     "name": "stderr",
     "output_type": "stream",
     "text": [
      "\n"
     ]
    },
    {
     "name": "stdout",
     "output_type": "stream",
     "text": [
      "Path to dataset files: C:\\Users\\horo\\.cache\\kagglehub\\datasets\\mykeysid10\\skin-lesions-dataset\\versions\\2\n"
     ]
    }
   ],
   "source": [
    "import kagglehub\n",
    "\n",
    "# Download latest version\n",
    "path = kagglehub.dataset_download(\"mykeysid10/skin-lesions-dataset\")\n",
    "\n",
    "print(\"Path to dataset files:\", path)"
   ]
  },
  {
   "cell_type": "code",
   "execution_count": null,
   "metadata": {},
   "outputs": [],
   "source": [
    "import os\n",
    "from shutil import move\n",
    "path_abs = r\"D:\\Mine\\Basics\\Coding\\Python_projects\\SimpleAutoML\\ml\"\n",
    "\n",
    "path_train = os.path.join(path_abs, r'YOLO_dataset\\train')\n",
    "path_val = os.path.join(path_abs, r'YOLO_dataset\\test')\n",
    "path_test = os.path.join(path_abs, r'YOLO_dataset\\validation')\n",
    "path_src = os.path.join(path_abs, r'Yolo_dataset\\annotations')"
   ]
  },
  {
   "cell_type": "code",
   "execution_count": null,
   "metadata": {},
   "outputs": [],
   "source": [
    "move(os.path.join(path, r'skin_lesions_dataset'), os.path.join(path_abs, r'COCO_to_YOLOv8'))\n",
    "\n",
    "os.makedirs(path_train, exist_ok=True)\n",
    "os.makedirs(path_val, exist_ok=True)\n",
    "os.makedirs(path_test, exist_ok=True)\n",
    "\n",
    "for dir in [path_train, path_val, path_test]:\n",
    "    for subdir in ['images', 'labels']:\n",
    "        os.makedirs(os.path.join(dir, subdir), exist_ok=True)"
   ]
  },
  {
   "cell_type": "code",
   "execution_count": 4,
   "metadata": {},
   "outputs": [],
   "source": [
    "from sklearn.model_selection import train_test_split\n",
    "\n",
    "X = os.listdir(os.path.join(path_src, r'images'))\n",
    "y = os.listdir(os.path.join(path_src, r'labels'))\n",
    "X_train, X_test, y_train, y_test = train_test_split(X, y, train_size=0.7, shuffle=True, random_state=42)\n",
    "X_val, X_test, y_val, y_test = train_test_split(X_test, y_test, train_size=2/3, shuffle=True, random_state=42)"
   ]
  },
  {
   "cell_type": "code",
   "execution_count": 5,
   "metadata": {},
   "outputs": [],
   "source": [
    "for X, y, path in [(X_train, y_train, path_train), (X_test, y_test, path_test), (X_val, y_val, path_val)]:\n",
    "    for file, label in zip(X, y):\n",
    "        move(os.path.join(path_src, r'images', file), os.path.join(path, r'images', file))\n",
    "        move(os.path.join(path_src, r'labels', label), os.path.join(path, r'labels', label))"
   ]
  },
  {
   "cell_type": "code",
   "execution_count": null,
   "metadata": {},
   "outputs": [],
   "source": []
  }
 ],
 "metadata": {
  "kernelspec": {
   "display_name": "Python 3",
   "language": "python",
   "name": "python3"
  },
  "language_info": {
   "codemirror_mode": {
    "name": "ipython",
    "version": 3
   },
   "file_extension": ".py",
   "mimetype": "text/x-python",
   "name": "python",
   "nbconvert_exporter": "python",
   "pygments_lexer": "ipython3",
   "version": "3.12.4"
  }
 },
 "nbformat": 4,
 "nbformat_minor": 2
}
