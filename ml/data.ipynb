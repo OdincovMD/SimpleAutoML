{
 "cells": [
  {
   "cell_type": "code",
   "execution_count": null,
   "metadata": {},
   "outputs": [
    {
     "name": "stdout",
     "output_type": "stream",
     "text": [
      "Downloading from https://www.kaggle.com/api/v1/datasets/download/farzadnekouei/pothole-image-segmentation-dataset?dataset_version_number=2...\n"
     ]
    },
    {
     "name": "stderr",
     "output_type": "stream",
     "text": [
      "100%|██████████| 59.3M/59.3M [00:05<00:00, 10.6MB/s]"
     ]
    },
    {
     "name": "stdout",
     "output_type": "stream",
     "text": [
      "Extracting files...\n"
     ]
    },
    {
     "name": "stderr",
     "output_type": "stream",
     "text": [
      "\n"
     ]
    },
    {
     "name": "stdout",
     "output_type": "stream",
     "text": [
      "Path to dataset files: C:\\Users\\horo\\.cache\\kagglehub\\datasets\\farzadnekouei\\pothole-image-segmentation-dataset\\versions\\2\n"
     ]
    }
   ],
   "source": [
    "import kagglehub\n",
    "\n",
    "# Download the potholes\n",
    "path = kagglehub.dataset_download(\"farzadnekouei/pothole-image-segmentation-dataset\")\n",
    "print(\"Path to dataset files:\", path)\n",
    "\n",
    "# Download the catsanddogs\n",
    "path = kagglehub.dataset_download(\"farzadnekouei/pothole-image-segmentation-dataset\")\n",
    "print(\"Path to dataset files:\", path)\n",
    "\n",
    "# Download latest version\n",
    "path = kagglehub.dataset_download(\"farzadnekouei/pothole-image-segmentation-dataset\")\n",
    "print(\"Path to dataset files:\", path)"
   ]
  }
 ],
 "metadata": {
  "kernelspec": {
   "display_name": "Python 3",
   "language": "python",
   "name": "python3"
  },
  "language_info": {
   "codemirror_mode": {
    "name": "ipython",
    "version": 3
   },
   "file_extension": ".py",
   "mimetype": "text/x-python",
   "name": "python",
   "nbconvert_exporter": "python",
   "pygments_lexer": "ipython3",
   "version": "3.12.4"
  }
 },
 "nbformat": 4,
 "nbformat_minor": 2
}
